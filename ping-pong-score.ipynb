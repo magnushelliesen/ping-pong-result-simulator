{
 "cells": [
  {
   "attachments": {},
   "cell_type": "markdown",
   "metadata": {},
   "source": [
    "# Ping pong result simulator\n",
    "#### By: Magnus Kvåle Helliesen\n",
    "It seems that the result *(9,6)* or *(6,9)* pops up in ping pong unreasonably often. This notebook simulates ping pong matches to see how often it should in fact pop up."
   ]
  },
  {
   "cell_type": "code",
   "execution_count": 5,
   "metadata": {},
   "outputs": [],
   "source": [
    "import random\n",
    "import pandas as pd\n",
    "import matplotlib.pyplot as plt"
   ]
  },
  {
   "attachments": {},
   "cell_type": "markdown",
   "metadata": {},
   "source": [
    "We make a funciton that returns the result from a single exchange between player 0 and player 1, where $P(\\textrm{player 0 wins})=p_0$. The simulation is performed using a uniformily distributet variable $x\\sim U(0,1)$, and player 0 wins if $x\\leq p_0$. The function returns a pair of values: *person 0 won*, *person 1 won* (boolean values)."
   ]
  },
  {
   "cell_type": "code",
   "execution_count": 6,
   "metadata": {},
   "outputs": [],
   "source": [
    "def result_from_single_exchange(p0):\n",
    "    random_uniform = random.uniform(0,1)\n",
    "    return (random_uniform <= p0), (random_uniform > p0)"
   ]
  },
  {
   "attachments": {},
   "cell_type": "markdown",
   "metadata": {},
   "source": [
    "Next, we make a function that simulates a whole game, that is a sequence of exchanges until the criteriea for having won the game are met. The function returns a list of all the scores of the game, that is a list of tuples of *(points player 0, points player 1)*."
   ]
  },
  {
   "cell_type": "code",
   "execution_count": 7,
   "metadata": {},
   "outputs": [],
   "source": [
    "def result_from_game(p0):\n",
    "    scores_in_game = [(0, 0)]\n",
    "    while (max(scores_in_game[-1][0], scores_in_game[-1][1]) < 11) or (abs(scores_in_game[-1][0]-scores_in_game[-1][1]) < 2):\n",
    "        player0_wins, player1_wins = result_from_single_exchange(p0)\n",
    "        scores_in_game.append((scores_in_game[-1][0]+player0_wins, scores_in_game[-1][1]+player1_wins))\n",
    "    return scores_in_game"
   ]
  },
  {
   "attachments": {},
   "cell_type": "markdown",
   "metadata": {},
   "source": [
    "Lets look at an example game between two equally good players, i.e. $p_0 = 1/2$."
   ]
  },
  {
   "cell_type": "code",
   "execution_count": null,
   "metadata": {},
   "outputs": [],
   "source": [
    "# An example game between equally good players\n",
    "example_game = result_from_game(0.5)"
   ]
  },
  {
   "cell_type": "code",
   "execution_count": 8,
   "metadata": {},
   "outputs": [
    {
     "data": {
      "text/plain": [
       "[(0, 0),\n",
       " (0, 1),\n",
       " (1, 1),\n",
       " (2, 1),\n",
       " (3, 1),\n",
       " (3, 2),\n",
       " (4, 2),\n",
       " (5, 2),\n",
       " (6, 2),\n",
       " (6, 3),\n",
       " (6, 4),\n",
       " (7, 4),\n",
       " (7, 5),\n",
       " (8, 5),\n",
       " (8, 6),\n",
       " (9, 6),\n",
       " (9, 7),\n",
       " (10, 7),\n",
       " (10, 8),\n",
       " (11, 8)]"
      ]
     },
     "execution_count": 8,
     "metadata": {},
     "output_type": "execute_result"
    }
   ],
   "source": [
    "# All scores of the game\n",
    "example_game"
   ]
  },
  {
   "cell_type": "code",
   "execution_count": null,
   "metadata": {},
   "outputs": [],
   "source": [
    "# The game ended with the score\n",
    "example_game[-1]"
   ]
  },
  {
   "attachments": {},
   "cell_type": "markdown",
   "metadata": {},
   "source": [
    "We now simulate 100,000 games and store it to a list"
   ]
  },
  {
   "cell_type": "code",
   "execution_count": 9,
   "metadata": {},
   "outputs": [],
   "source": [
    "simulation_of_games = []\n",
    "for i in range(100000):\n",
    "    simulation_of_games.extend(result_from_game(0.5))"
   ]
  },
  {
   "cell_type": "code",
   "execution_count": 10,
   "metadata": {},
   "outputs": [
    {
     "data": {
      "image/png": "[encoded data removed]",
      "text/plain": [
       "<Figure size 432x288 with 1 Axes>"
      ]
     },
     "metadata": {
      "needs_background": "light"
     },
     "output_type": "display_data"
    }
   ],
   "source": [
    "df = pd.DataFrame(simulation_of_games, columns=['player0_wins', 'player1_wins'])\n",
    "\n",
    "df_to_plot = (\n",
    "    pd.DataFrame(simulation_of_games, columns=['player0_wins', 'player1_wins'])\n",
    "    .assign(**{'': 1})\n",
    "    .groupby(['player0_wins', 'player1_wins'])\n",
    "    .count()\n",
    "    .reset_index()\n",
    "    .pivot_table(index=['player0_wins'], columns=['player1_wins'], fill_value=0)\n",
    ")\n",
    "\n",
    "plt.imshow(df_to_plot, cmap =\"RdYlBu\")\n",
    "plt.show()"
   ]
  },
  {
   "cell_type": "code",
   "execution_count": 11,
   "metadata": {},
   "outputs": [
    {
     "data": {
      "text/plain": [
       "0.30509"
      ]
     },
     "execution_count": 11,
     "metadata": {},
     "output_type": "execute_result"
    }
   ],
   "source": [
    "df = df.assign(**{'new_match': lambda df: [1 if (p1, p2) == (0, 0) else 0 for p1, p2 in zip(df['player0_wins'], df['player1_wins'])]})\n",
    "df = df.assign(**{'match_id': lambda df: df['new_match'].cumsum()})\n",
    "df = df.assign(**{'96/69': lambda df: [1 if (p1, p2) in ((9, 6), (6, 9)) else 0 for p1, p2 in zip(df['player0_wins'], df['player1_wins'])]})\n",
    "df.groupby(df['match_id'])['96/69'].sum().mean()"
   ]
  }
 ],
 "metadata": {
  "kernelspec": {
   "display_name": "base",
   "language": "python",
   "name": "python3"
  },
  "language_info": {
   "codemirror_mode": {
    "name": "ipython",
    "version": 3
   },
   "file_extension": ".py",
   "mimetype": "text/x-python",
   "name": "python",
   "nbconvert_exporter": "python",
   "pygments_lexer": "ipython3",
   "version": "3.9.13 (main, Aug 25 2022, 23:26:10) \n[GCC 11.2.0]"
  },
  "orig_nbformat": 4,
  "vscode": {
   "interpreter": {
    "hash": "7d829d67fe7ca77a04bf53bbdd9901ce189fe63ede3bc9fcfd75e43fa61fec0d"
   }
  }
 },
 "nbformat": 4,
 "nbformat_minor": 2
}
