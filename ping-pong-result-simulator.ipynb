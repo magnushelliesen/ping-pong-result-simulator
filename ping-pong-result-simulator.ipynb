{
 "cells": [
  {
   "attachments": {},
   "cell_type": "markdown",
   "metadata": {},
   "source": [
    "# Ping pong result simulator\n",
    "#### Author: Magnus Kvåle Helliesen\n",
    "\n",
    "Playing ping pong, it seems that the result 9-6 or 6-9 pops up unreasonably often. This notebook simulates ping pong matches to see how often it \"should\" in fact pop up."
   ]
  },
  {
   "cell_type": "code",
   "execution_count": 50,
   "metadata": {},
   "outputs": [],
   "source": [
    "import random\n",
    "import pandas as pd\n",
    "import matplotlib.pyplot as plt\n",
    "from matplotlib.ticker import MaxNLocator\n",
    "import numpy as np"
   ]
  },
  {
   "attachments": {},
   "cell_type": "markdown",
   "metadata": {},
   "source": [
    "We make a funciton that returns a simulated result from a single exchange between two players, *player 0* and *player 1*.\n",
    "Each player has a skill $s$, and we let $s_0=\\frac{p_0}{1-p_0}$, where $p_0=P(\\textrm{player 0 won})$.\n",
    "In other words, if $s_0=1$ then player 0 is equally good as player 1, if $s_0=2$ then player 0 is twice as good as player 1 etc.\n",
    "Re-writing in terms of propabilities we have that $p_0 = \\frac{s_0}{s_0+1}$.\n",
    "The simulation is performed using a uniformily distributet variable $x\\sim U(0,1)$, and player 0 won if $x\\leq p_0$. The function returns a pair of values: *person 0 won*, *person 1 won* (i.e. a pair of boolean values)."
   ]
  },
  {
   "cell_type": "code",
   "execution_count": 51,
   "metadata": {},
   "outputs": [],
   "source": [
    "def result_from_single_exchange(s0):\n",
    "    random_uniform = random.uniform(0,1)\n",
    "    return (random_uniform <= s0/(s0+1)), (random_uniform > s0/(s0+1))"
   ]
  },
  {
   "attachments": {},
   "cell_type": "markdown",
   "metadata": {},
   "source": [
    "Next, we make a function that simulates a whole game, that is a sequence of exchanges until the criteriea for having won the game are met (the highest score is at least 11, and difference in score is at least 2). The function returns a list of all the scores of the game, that is a list of tuples of *(points player 0, points player 1)*."
   ]
  },
  {
   "cell_type": "code",
   "execution_count": 52,
   "metadata": {},
   "outputs": [],
   "source": [
    "def result_from_game(s0):\n",
    "    scores_in_game = [(0, 0)]\n",
    "    while (max(scores_in_game[-1][0], scores_in_game[-1][1]) < 11) or (abs(scores_in_game[-1][0]-scores_in_game[-1][1]) < 2):\n",
    "        player0_won, player1_won = result_from_single_exchange(s0)\n",
    "        scores_in_game.append((scores_in_game[-1][0]+player0_won, scores_in_game[-1][1]+player1_won))\n",
    "    return scores_in_game"
   ]
  },
  {
   "attachments": {},
   "cell_type": "markdown",
   "metadata": {},
   "source": [
    "Lets look at an example game between two equally good players, i.e. $s_0 = 1$."
   ]
  },
  {
   "cell_type": "code",
   "execution_count": 53,
   "metadata": {},
   "outputs": [],
   "source": [
    "# An example game between equally good players\n",
    "example_game = result_from_game(1)"
   ]
  },
  {
   "cell_type": "code",
   "execution_count": 54,
   "metadata": {},
   "outputs": [
    {
     "name": "stdout",
     "output_type": "stream",
     "text": [
      "(0, 0) (1, 0) (1, 1) (1, 2) (1, 3) (1, 4) (1, 5) (1, 6) (1, 7) (2, 7) (2, 8) (3, 8) (4, 8) (5, 8) (6, 8) (6, 9) (7, 9) (8, 9) (8, 10) (9, 10) (10, 10) (11, 10) (11, 11) (12, 11) (13, 11)\n"
     ]
    }
   ],
   "source": [
    "# All scores of the game\n",
    "print(*example_game)"
   ]
  },
  {
   "cell_type": "code",
   "execution_count": 55,
   "metadata": {},
   "outputs": [
    {
     "data": {
      "text/plain": [
       "(13, 11)"
      ]
     },
     "execution_count": 55,
     "metadata": {},
     "output_type": "execute_result"
    }
   ],
   "source": [
    "# The game ended with the score\n",
    "example_game[-1]"
   ]
  },
  {
   "attachments": {},
   "cell_type": "markdown",
   "metadata": {},
   "source": [
    "We generate a function that simulates $n$ games and stores all the results to a list. (We will be able to distinguish between games later because every game starts with 0-0.)"
   ]
  },
  {
   "cell_type": "code",
   "execution_count": 56,
   "metadata": {},
   "outputs": [],
   "source": [
    "def game_simulator(s0, n, seed):\n",
    "    random.seed(seed)\n",
    "    simulation_of_games = []\n",
    "    for i in range(n):\n",
    "        simulation_of_games.extend(result_from_game(s0))\n",
    "    return simulation_of_games"
   ]
  },
  {
   "attachments": {},
   "cell_type": "markdown",
   "metadata": {},
   "source": [
    "We now simulate 100,000 games and store it to a list. We then put it in a DataFrame, manipulate it, and plot it as a heatmap. We see that scores along the diagonal (that is, farily even matches) are happen most frequently. Sometimes on player wins 11 to nothing, and sometimes they play until 25 and more."
   ]
  },
  {
   "cell_type": "code",
   "execution_count": 57,
   "metadata": {},
   "outputs": [
    {
     "data": {
      "image/png": "[encoded data removed]",
      "text/plain": [
       "<Figure size 720x720 with 1 Axes>"
      ]
     },
     "metadata": {
      "needs_background": "light"
     },
     "output_type": "display_data"
    }
   ],
   "source": [
    "simulation_of_games = game_simulator(1, 100000, 1234)\n",
    "\n",
    "df = pd.DataFrame(simulation_of_games, columns=['player0_points', 'player1_points'])\n",
    "\n",
    "df_to_plot = (\n",
    "    pd.DataFrame(simulation_of_games, columns=['player0_points', 'player1_points'])\n",
    "    .assign(**{'': 1})\n",
    "    .groupby(['player0_points', 'player1_points'])\n",
    "    .count()\n",
    "    .reset_index()\n",
    "    .pivot_table(index=['player0_points'], columns=['player1_points'])\n",
    ")\n",
    "\n",
    "plt.figure(figsize=(10,10))\n",
    "plt.imshow(df_to_plot, cmap =\"RdYlBu\")\n",
    "plt.ylabel('Player 0 points')\n",
    "plt.xlabel('Player 1 points')\n",
    "plt.show()"
   ]
  },
  {
   "attachments": {},
   "cell_type": "markdown",
   "metadata": {},
   "source": [
    "We also calculate the simulated probability of having the score result 9-6 or 6-9 in any given match. We see that it's about 30 %."
   ]
  },
  {
   "cell_type": "code",
   "execution_count": 58,
   "metadata": {},
   "outputs": [
    {
     "data": {
      "text/plain": [
       "0.30518"
      ]
     },
     "execution_count": 58,
     "metadata": {},
     "output_type": "execute_result"
    }
   ],
   "source": [
    "df = df.assign(**{'new_match': lambda df: [1 if (p1, p2) == (0, 0) else 0 for p1, p2 in zip(df['player0_points'], df['player1_points'])]})\n",
    "df = df.assign(**{'match_id': lambda df: df['new_match'].cumsum()})\n",
    "df = df.assign(**{'96/69': lambda df: [1 if (p1, p2) in ((9, 6), (6, 9)) else 0 for p1, p2 in zip(df['player0_points'], df['player1_points'])]})\n",
    "df.groupby(df['match_id'])['96/69'].sum().mean()"
   ]
  },
  {
   "attachments": {},
   "cell_type": "markdown",
   "metadata": {},
   "source": [
    "## Plots of scores for differen $P_0$\n",
    "We now make a function that makes neat subplots for different relative skill levels."
   ]
  },
  {
   "cell_type": "code",
   "execution_count": 59,
   "metadata": {},
   "outputs": [],
   "source": [
    "def result_creator(n, seed):\n",
    "    fig, ax = plt.subplots(3, 3, sharex=True, sharey=True, figsize=(15, 15))\n",
    "    fig.tight_layout(pad=4.0)\n",
    "    fig.supylabel('Player 0 points')\n",
    "    fig.supxlabel('Player 1 points')\n",
    "    i, j = 0, 0\n",
    "    for s0 in [2**i for i in range(-4,5)]:\n",
    "        simulation_of_games = game_simulator(s0, n, 1234)\n",
    "\n",
    "        df = pd.DataFrame(simulation_of_games, columns=['player0_points', 'player1_points'])\n",
    "\n",
    "        df_to_plot = (\n",
    "            pd.DataFrame(simulation_of_games, columns=['player0_points', 'player1_points'])\n",
    "            .assign(**{'': 1})\n",
    "            .groupby(['player0_points', 'player1_points'])\n",
    "            .count()\n",
    "            .reset_index()\n",
    "            .pivot_table(index=['player0_points'], columns=['player1_points'])\n",
    "        )\n",
    "\n",
    "        ax[j ,i].imshow(df_to_plot, cmap =\"RdYlBu\")\n",
    "        ax[j ,i].title.set_text(''.join(['$s_0$ = ','{0:.2f}'.format(s0)]))\n",
    "        ax[j ,i].set_xlim((0, 20))\n",
    "        ax[j ,i].set_ylim((0, 20))\n",
    "        ax[j ,i].yaxis.set_major_locator(MaxNLocator(integer=True))\n",
    "        ax[j ,i].xaxis.set_major_locator(MaxNLocator(integer=True))\n",
    "        \n",
    "        if i == 2:\n",
    "            i = 0\n",
    "            j += 1\n",
    "        else:\n",
    "            i += 1"
   ]
  },
  {
   "cell_type": "code",
   "execution_count": 60,
   "metadata": {},
   "outputs": [
    {
     "data": {
      "image/png": "[encoded data removed]",
      "text/plain": [
       "<Figure size 1080x1080 with 9 Axes>"
      ]
     },
     "metadata": {
      "needs_background": "light"
     },
     "output_type": "display_data"
    }
   ],
   "source": [
    "result_creator(100000, 1234)"
   ]
  }
 ],
 "metadata": {
  "kernelspec": {
   "display_name": "base",
   "language": "python",
   "name": "python3"
  },
  "language_info": {
   "codemirror_mode": {
    "name": "ipython",
    "version": 3
   },
   "file_extension": ".py",
   "mimetype": "text/x-python",
   "name": "python",
   "nbconvert_exporter": "python",
   "pygments_lexer": "ipython3",
   "version": "3.9.13"
  },
  "orig_nbformat": 4,
  "vscode": {
   "interpreter": {
    "hash": "7d829d67fe7ca77a04bf53bbdd9901ce189fe63ede3bc9fcfd75e43fa61fec0d"
   }
  }
 },
 "nbformat": 4,
 "nbformat_minor": 2
}
